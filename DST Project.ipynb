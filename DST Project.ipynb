{
 "cells": [
  {
   "cell_type": "code",
   "execution_count": 1,
   "id": "ea44e2a4-ee65-4ac1-8c56-96726fd1b9a1",
   "metadata": {},
   "outputs": [],
   "source": [
    "import pandas as pd\n",
    "import numpy as np\n",
    "import matplotlib.pyplot as plt\n",
    "import seaborn as sns"
   ]
  },
  {
   "cell_type": "markdown",
   "id": "3a4de68a-2853-40ed-bee7-d289f78c2ae8",
   "metadata": {},
   "source": [
    "### Read Dataset"
   ]
  },
  {
   "cell_type": "code",
   "execution_count": 3,
   "id": "1125d5d3-ffd1-4b68-b4ca-6a32663701c4",
   "metadata": {},
   "outputs": [
    {
     "data": {
      "text/html": [
       "<div>\n",
       "<style scoped>\n",
       "    .dataframe tbody tr th:only-of-type {\n",
       "        vertical-align: middle;\n",
       "    }\n",
       "\n",
       "    .dataframe tbody tr th {\n",
       "        vertical-align: top;\n",
       "    }\n",
       "\n",
       "    .dataframe thead th {\n",
       "        text-align: right;\n",
       "    }\n",
       "</style>\n",
       "<table border=\"1\" class=\"dataframe\">\n",
       "  <thead>\n",
       "    <tr style=\"text-align: right;\">\n",
       "      <th></th>\n",
       "      <th>name</th>\n",
       "      <th>year</th>\n",
       "      <th>selling_price</th>\n",
       "      <th>km_driven</th>\n",
       "      <th>fuel</th>\n",
       "      <th>seller_type</th>\n",
       "      <th>transmission</th>\n",
       "      <th>owner</th>\n",
       "      <th>mileage(km/ltr/kg)</th>\n",
       "      <th>engine</th>\n",
       "      <th>max_power</th>\n",
       "      <th>seats</th>\n",
       "    </tr>\n",
       "  </thead>\n",
       "  <tbody>\n",
       "    <tr>\n",
       "      <th>0</th>\n",
       "      <td>Maruti Swift Dzire VDI</td>\n",
       "      <td>2014</td>\n",
       "      <td>450000</td>\n",
       "      <td>145500</td>\n",
       "      <td>Diesel</td>\n",
       "      <td>Individual</td>\n",
       "      <td>Manual</td>\n",
       "      <td>First Owner</td>\n",
       "      <td>23.40</td>\n",
       "      <td>1248.0</td>\n",
       "      <td>74</td>\n",
       "      <td>5.0</td>\n",
       "    </tr>\n",
       "    <tr>\n",
       "      <th>1</th>\n",
       "      <td>Skoda Rapid 1.5 TDI Ambition</td>\n",
       "      <td>2014</td>\n",
       "      <td>370000</td>\n",
       "      <td>120000</td>\n",
       "      <td>Diesel</td>\n",
       "      <td>Individual</td>\n",
       "      <td>Manual</td>\n",
       "      <td>Second Owner</td>\n",
       "      <td>21.14</td>\n",
       "      <td>1498.0</td>\n",
       "      <td>103.52</td>\n",
       "      <td>5.0</td>\n",
       "    </tr>\n",
       "    <tr>\n",
       "      <th>2</th>\n",
       "      <td>Honda City 2017-2020 EXi</td>\n",
       "      <td>2006</td>\n",
       "      <td>158000</td>\n",
       "      <td>140000</td>\n",
       "      <td>Petrol</td>\n",
       "      <td>Individual</td>\n",
       "      <td>Manual</td>\n",
       "      <td>Third Owner</td>\n",
       "      <td>17.70</td>\n",
       "      <td>1497.0</td>\n",
       "      <td>78</td>\n",
       "      <td>5.0</td>\n",
       "    </tr>\n",
       "    <tr>\n",
       "      <th>3</th>\n",
       "      <td>Hyundai i20 Sportz Diesel</td>\n",
       "      <td>2010</td>\n",
       "      <td>225000</td>\n",
       "      <td>127000</td>\n",
       "      <td>Diesel</td>\n",
       "      <td>Individual</td>\n",
       "      <td>Manual</td>\n",
       "      <td>First Owner</td>\n",
       "      <td>23.00</td>\n",
       "      <td>1396.0</td>\n",
       "      <td>90</td>\n",
       "      <td>5.0</td>\n",
       "    </tr>\n",
       "    <tr>\n",
       "      <th>4</th>\n",
       "      <td>Maruti Swift VXI BSIII</td>\n",
       "      <td>2007</td>\n",
       "      <td>130000</td>\n",
       "      <td>120000</td>\n",
       "      <td>Petrol</td>\n",
       "      <td>Individual</td>\n",
       "      <td>Manual</td>\n",
       "      <td>First Owner</td>\n",
       "      <td>16.10</td>\n",
       "      <td>1298.0</td>\n",
       "      <td>88.2</td>\n",
       "      <td>5.0</td>\n",
       "    </tr>\n",
       "  </tbody>\n",
       "</table>\n",
       "</div>"
      ],
      "text/plain": [
       "                           name  year  selling_price  km_driven    fuel  \\\n",
       "0        Maruti Swift Dzire VDI  2014         450000     145500  Diesel   \n",
       "1  Skoda Rapid 1.5 TDI Ambition  2014         370000     120000  Diesel   \n",
       "2      Honda City 2017-2020 EXi  2006         158000     140000  Petrol   \n",
       "3     Hyundai i20 Sportz Diesel  2010         225000     127000  Diesel   \n",
       "4        Maruti Swift VXI BSIII  2007         130000     120000  Petrol   \n",
       "\n",
       "  seller_type transmission         owner  mileage(km/ltr/kg)  engine  \\\n",
       "0  Individual       Manual   First Owner               23.40  1248.0   \n",
       "1  Individual       Manual  Second Owner               21.14  1498.0   \n",
       "2  Individual       Manual   Third Owner               17.70  1497.0   \n",
       "3  Individual       Manual   First Owner               23.00  1396.0   \n",
       "4  Individual       Manual   First Owner               16.10  1298.0   \n",
       "\n",
       "  max_power  seats  \n",
       "0        74    5.0  \n",
       "1    103.52    5.0  \n",
       "2        78    5.0  \n",
       "3        90    5.0  \n",
       "4      88.2    5.0  "
      ]
     },
     "execution_count": 3,
     "metadata": {},
     "output_type": "execute_result"
    }
   ],
   "source": [
    "data = pd.read_csv(\"cardekho.csv\")\n",
    "data.head()"
   ]
  },
  {
   "cell_type": "markdown",
   "id": "5445033c-c9e2-42e2-95f5-1b34ffca9b14",
   "metadata": {},
   "source": [
    "## Data Description"
   ]
  },
  {
   "cell_type": "code",
   "execution_count": 5,
   "id": "2170a8c0-1122-482f-861b-1648d6b1f281",
   "metadata": {},
   "outputs": [
    {
     "name": "stdout",
     "output_type": "stream",
     "text": [
      "<class 'pandas.core.frame.DataFrame'>\n",
      "RangeIndex: 8128 entries, 0 to 8127\n",
      "Data columns (total 12 columns):\n",
      " #   Column              Non-Null Count  Dtype  \n",
      "---  ------              --------------  -----  \n",
      " 0   name                8128 non-null   object \n",
      " 1   year                8128 non-null   int64  \n",
      " 2   selling_price       8128 non-null   int64  \n",
      " 3   km_driven           8128 non-null   int64  \n",
      " 4   fuel                8128 non-null   object \n",
      " 5   seller_type         8128 non-null   object \n",
      " 6   transmission        8128 non-null   object \n",
      " 7   owner               8128 non-null   object \n",
      " 8   mileage(km/ltr/kg)  7907 non-null   float64\n",
      " 9   engine              7907 non-null   float64\n",
      " 10  max_power           7913 non-null   object \n",
      " 11  seats               7907 non-null   float64\n",
      "dtypes: float64(3), int64(3), object(6)\n",
      "memory usage: 762.1+ KB\n"
     ]
    }
   ],
   "source": [
    "data.info()"
   ]
  },
  {
   "cell_type": "code",
   "execution_count": 6,
   "id": "a514ed6e-f0cc-40a8-ae6d-fb93bf79b4e2",
   "metadata": {},
   "outputs": [
    {
     "data": {
      "text/html": [
       "<div>\n",
       "<style scoped>\n",
       "    .dataframe tbody tr th:only-of-type {\n",
       "        vertical-align: middle;\n",
       "    }\n",
       "\n",
       "    .dataframe tbody tr th {\n",
       "        vertical-align: top;\n",
       "    }\n",
       "\n",
       "    .dataframe thead th {\n",
       "        text-align: right;\n",
       "    }\n",
       "</style>\n",
       "<table border=\"1\" class=\"dataframe\">\n",
       "  <thead>\n",
       "    <tr style=\"text-align: right;\">\n",
       "      <th></th>\n",
       "      <th>year</th>\n",
       "      <th>selling_price</th>\n",
       "      <th>km_driven</th>\n",
       "      <th>mileage(km/ltr/kg)</th>\n",
       "      <th>engine</th>\n",
       "      <th>seats</th>\n",
       "    </tr>\n",
       "  </thead>\n",
       "  <tbody>\n",
       "    <tr>\n",
       "      <th>count</th>\n",
       "      <td>8128.00</td>\n",
       "      <td>8128.00</td>\n",
       "      <td>8128.00</td>\n",
       "      <td>7907.00</td>\n",
       "      <td>7907.00</td>\n",
       "      <td>7907.00</td>\n",
       "    </tr>\n",
       "    <tr>\n",
       "      <th>mean</th>\n",
       "      <td>2013.80</td>\n",
       "      <td>638271.81</td>\n",
       "      <td>69819.51</td>\n",
       "      <td>19.42</td>\n",
       "      <td>1458.63</td>\n",
       "      <td>5.42</td>\n",
       "    </tr>\n",
       "    <tr>\n",
       "      <th>std</th>\n",
       "      <td>4.04</td>\n",
       "      <td>806253.40</td>\n",
       "      <td>56550.55</td>\n",
       "      <td>4.04</td>\n",
       "      <td>503.92</td>\n",
       "      <td>0.96</td>\n",
       "    </tr>\n",
       "    <tr>\n",
       "      <th>min</th>\n",
       "      <td>1983.00</td>\n",
       "      <td>29999.00</td>\n",
       "      <td>1.00</td>\n",
       "      <td>0.00</td>\n",
       "      <td>624.00</td>\n",
       "      <td>2.00</td>\n",
       "    </tr>\n",
       "    <tr>\n",
       "      <th>25%</th>\n",
       "      <td>2011.00</td>\n",
       "      <td>254999.00</td>\n",
       "      <td>35000.00</td>\n",
       "      <td>16.78</td>\n",
       "      <td>1197.00</td>\n",
       "      <td>5.00</td>\n",
       "    </tr>\n",
       "    <tr>\n",
       "      <th>50%</th>\n",
       "      <td>2015.00</td>\n",
       "      <td>450000.00</td>\n",
       "      <td>60000.00</td>\n",
       "      <td>19.30</td>\n",
       "      <td>1248.00</td>\n",
       "      <td>5.00</td>\n",
       "    </tr>\n",
       "    <tr>\n",
       "      <th>75%</th>\n",
       "      <td>2017.00</td>\n",
       "      <td>675000.00</td>\n",
       "      <td>98000.00</td>\n",
       "      <td>22.32</td>\n",
       "      <td>1582.00</td>\n",
       "      <td>5.00</td>\n",
       "    </tr>\n",
       "    <tr>\n",
       "      <th>max</th>\n",
       "      <td>2020.00</td>\n",
       "      <td>10000000.00</td>\n",
       "      <td>2360457.00</td>\n",
       "      <td>42.00</td>\n",
       "      <td>3604.00</td>\n",
       "      <td>14.00</td>\n",
       "    </tr>\n",
       "  </tbody>\n",
       "</table>\n",
       "</div>"
      ],
      "text/plain": [
       "          year  selling_price   km_driven  mileage(km/ltr/kg)   engine  \\\n",
       "count  8128.00        8128.00     8128.00             7907.00  7907.00   \n",
       "mean   2013.80      638271.81    69819.51               19.42  1458.63   \n",
       "std       4.04      806253.40    56550.55                4.04   503.92   \n",
       "min    1983.00       29999.00        1.00                0.00   624.00   \n",
       "25%    2011.00      254999.00    35000.00               16.78  1197.00   \n",
       "50%    2015.00      450000.00    60000.00               19.30  1248.00   \n",
       "75%    2017.00      675000.00    98000.00               22.32  1582.00   \n",
       "max    2020.00    10000000.00  2360457.00               42.00  3604.00   \n",
       "\n",
       "         seats  \n",
       "count  7907.00  \n",
       "mean      5.42  \n",
       "std       0.96  \n",
       "min       2.00  \n",
       "25%       5.00  \n",
       "50%       5.00  \n",
       "75%       5.00  \n",
       "max      14.00  "
      ]
     },
     "execution_count": 6,
     "metadata": {},
     "output_type": "execute_result"
    }
   ],
   "source": [
    "data.describe().round(2)"
   ]
  },
  {
   "cell_type": "code",
   "execution_count": null,
   "id": "b8846afd-d6e0-415a-8524-d0872cc32fe6",
   "metadata": {},
   "outputs": [],
   "source": []
  },
  {
   "cell_type": "markdown",
   "id": "5159a5a2-8531-43b1-aaa2-c8a99f9ec23d",
   "metadata": {},
   "source": [
    "# Data Preprocessong"
   ]
  },
  {
   "cell_type": "markdown",
   "id": "b1fcb058-0431-45b0-afde-08092111390d",
   "metadata": {},
   "source": [
    "#### Convert **numeric Features** to **numeric datatype**"
   ]
  },
  {
   "cell_type": "code",
   "execution_count": 9,
   "id": "9b369723-9d7f-4c29-99ec-4c7396e7b46c",
   "metadata": {},
   "outputs": [],
   "source": [
    "data['max_power'] = pd.to_numeric(data['max_power'], errors='coerce')"
   ]
  },
  {
   "cell_type": "markdown",
   "id": "d5e5f5ba-e69e-4330-85b0-7f346448696d",
   "metadata": {},
   "source": [
    "#### Remove **Unuseful Features**"
   ]
  },
  {
   "cell_type": "code",
   "execution_count": 11,
   "id": "a35f823b-81bc-4ff2-92f9-9e6b773129fd",
   "metadata": {},
   "outputs": [],
   "source": [
    "data = data.drop(columns='seller_type')"
   ]
  },
  {
   "cell_type": "code",
   "execution_count": 12,
   "id": "1f9421f4-cd5b-4731-8723-29df6bfe09d4",
   "metadata": {},
   "outputs": [
    {
     "data": {
      "text/html": [
       "<div>\n",
       "<style scoped>\n",
       "    .dataframe tbody tr th:only-of-type {\n",
       "        vertical-align: middle;\n",
       "    }\n",
       "\n",
       "    .dataframe tbody tr th {\n",
       "        vertical-align: top;\n",
       "    }\n",
       "\n",
       "    .dataframe thead th {\n",
       "        text-align: right;\n",
       "    }\n",
       "</style>\n",
       "<table border=\"1\" class=\"dataframe\">\n",
       "  <thead>\n",
       "    <tr style=\"text-align: right;\">\n",
       "      <th></th>\n",
       "      <th>name</th>\n",
       "      <th>year</th>\n",
       "      <th>selling_price</th>\n",
       "      <th>km_driven</th>\n",
       "      <th>fuel</th>\n",
       "      <th>transmission</th>\n",
       "      <th>owner</th>\n",
       "      <th>mileage(km/ltr/kg)</th>\n",
       "      <th>engine</th>\n",
       "      <th>max_power</th>\n",
       "      <th>seats</th>\n",
       "    </tr>\n",
       "  </thead>\n",
       "  <tbody>\n",
       "    <tr>\n",
       "      <th>0</th>\n",
       "      <td>Maruti Swift Dzire VDI</td>\n",
       "      <td>2014</td>\n",
       "      <td>450000</td>\n",
       "      <td>145500</td>\n",
       "      <td>Diesel</td>\n",
       "      <td>Manual</td>\n",
       "      <td>First Owner</td>\n",
       "      <td>23.40</td>\n",
       "      <td>1248.0</td>\n",
       "      <td>74.00</td>\n",
       "      <td>5.0</td>\n",
       "    </tr>\n",
       "    <tr>\n",
       "      <th>1</th>\n",
       "      <td>Skoda Rapid 1.5 TDI Ambition</td>\n",
       "      <td>2014</td>\n",
       "      <td>370000</td>\n",
       "      <td>120000</td>\n",
       "      <td>Diesel</td>\n",
       "      <td>Manual</td>\n",
       "      <td>Second Owner</td>\n",
       "      <td>21.14</td>\n",
       "      <td>1498.0</td>\n",
       "      <td>103.52</td>\n",
       "      <td>5.0</td>\n",
       "    </tr>\n",
       "    <tr>\n",
       "      <th>2</th>\n",
       "      <td>Honda City 2017-2020 EXi</td>\n",
       "      <td>2006</td>\n",
       "      <td>158000</td>\n",
       "      <td>140000</td>\n",
       "      <td>Petrol</td>\n",
       "      <td>Manual</td>\n",
       "      <td>Third Owner</td>\n",
       "      <td>17.70</td>\n",
       "      <td>1497.0</td>\n",
       "      <td>78.00</td>\n",
       "      <td>5.0</td>\n",
       "    </tr>\n",
       "    <tr>\n",
       "      <th>3</th>\n",
       "      <td>Hyundai i20 Sportz Diesel</td>\n",
       "      <td>2010</td>\n",
       "      <td>225000</td>\n",
       "      <td>127000</td>\n",
       "      <td>Diesel</td>\n",
       "      <td>Manual</td>\n",
       "      <td>First Owner</td>\n",
       "      <td>23.00</td>\n",
       "      <td>1396.0</td>\n",
       "      <td>90.00</td>\n",
       "      <td>5.0</td>\n",
       "    </tr>\n",
       "    <tr>\n",
       "      <th>4</th>\n",
       "      <td>Maruti Swift VXI BSIII</td>\n",
       "      <td>2007</td>\n",
       "      <td>130000</td>\n",
       "      <td>120000</td>\n",
       "      <td>Petrol</td>\n",
       "      <td>Manual</td>\n",
       "      <td>First Owner</td>\n",
       "      <td>16.10</td>\n",
       "      <td>1298.0</td>\n",
       "      <td>88.20</td>\n",
       "      <td>5.0</td>\n",
       "    </tr>\n",
       "  </tbody>\n",
       "</table>\n",
       "</div>"
      ],
      "text/plain": [
       "                           name  year  selling_price  km_driven    fuel  \\\n",
       "0        Maruti Swift Dzire VDI  2014         450000     145500  Diesel   \n",
       "1  Skoda Rapid 1.5 TDI Ambition  2014         370000     120000  Diesel   \n",
       "2      Honda City 2017-2020 EXi  2006         158000     140000  Petrol   \n",
       "3     Hyundai i20 Sportz Diesel  2010         225000     127000  Diesel   \n",
       "4        Maruti Swift VXI BSIII  2007         130000     120000  Petrol   \n",
       "\n",
       "  transmission         owner  mileage(km/ltr/kg)  engine  max_power  seats  \n",
       "0       Manual   First Owner               23.40  1248.0      74.00    5.0  \n",
       "1       Manual  Second Owner               21.14  1498.0     103.52    5.0  \n",
       "2       Manual   Third Owner               17.70  1497.0      78.00    5.0  \n",
       "3       Manual   First Owner               23.00  1396.0      90.00    5.0  \n",
       "4       Manual   First Owner               16.10  1298.0      88.20    5.0  "
      ]
     },
     "execution_count": 12,
     "metadata": {},
     "output_type": "execute_result"
    }
   ],
   "source": [
    "data.head()"
   ]
  },
  {
   "cell_type": "code",
   "execution_count": 13,
   "id": "1718be24-ac3b-4c8c-ae7a-c725c80e408b",
   "metadata": {},
   "outputs": [
    {
     "data": {
      "text/plain": [
       "(8128, 11)"
      ]
     },
     "execution_count": 13,
     "metadata": {},
     "output_type": "execute_result"
    }
   ],
   "source": [
    "data.shape"
   ]
  },
  {
   "cell_type": "code",
   "execution_count": null,
   "id": "c6f981f8-789a-43d0-99e2-db534a171850",
   "metadata": {},
   "outputs": [],
   "source": []
  },
  {
   "cell_type": "markdown",
   "id": "c3e3aa86-57d2-47f0-8ff3-89e2427bb0d3",
   "metadata": {},
   "source": [
    "### Check **Nulls** and remove them"
   ]
  },
  {
   "cell_type": "code",
   "execution_count": 15,
   "id": "4f41d77e-fc94-4cd1-b111-1711e065389d",
   "metadata": {},
   "outputs": [
    {
     "data": {
      "text/plain": [
       "name                    0\n",
       "year                    0\n",
       "selling_price           0\n",
       "km_driven               0\n",
       "fuel                    0\n",
       "transmission            0\n",
       "owner                   0\n",
       "mileage(km/ltr/kg)    221\n",
       "engine                221\n",
       "max_power             216\n",
       "seats                 221\n",
       "dtype: int64"
      ]
     },
     "execution_count": 15,
     "metadata": {},
     "output_type": "execute_result"
    }
   ],
   "source": [
    "data.isna().sum()"
   ]
  },
  {
   "cell_type": "code",
   "execution_count": 16,
   "id": "eab9a6fc-2925-4bc1-bd48-650b25707b44",
   "metadata": {},
   "outputs": [],
   "source": [
    "data = data.dropna()"
   ]
  },
  {
   "cell_type": "code",
   "execution_count": 17,
   "id": "844608cf-65aa-40d2-ad06-ca60a776cd33",
   "metadata": {},
   "outputs": [
    {
     "data": {
      "text/plain": [
       "name                  0\n",
       "year                  0\n",
       "selling_price         0\n",
       "km_driven             0\n",
       "fuel                  0\n",
       "transmission          0\n",
       "owner                 0\n",
       "mileage(km/ltr/kg)    0\n",
       "engine                0\n",
       "max_power             0\n",
       "seats                 0\n",
       "dtype: int64"
      ]
     },
     "execution_count": 17,
     "metadata": {},
     "output_type": "execute_result"
    }
   ],
   "source": [
    "data.isna().sum()"
   ]
  },
  {
   "cell_type": "markdown",
   "id": "c7064274-2713-4a93-a5d2-47854dd20f6b",
   "metadata": {},
   "source": [
    "### Check **Duplicates** and remove them"
   ]
  },
  {
   "cell_type": "code",
   "execution_count": 19,
   "id": "9c6c6538-5a10-4a20-9f5d-46fda436b44d",
   "metadata": {},
   "outputs": [
    {
     "data": {
      "text/plain": [
       "1189"
      ]
     },
     "execution_count": 19,
     "metadata": {},
     "output_type": "execute_result"
    }
   ],
   "source": [
    "data.duplicated().sum()"
   ]
  },
  {
   "cell_type": "code",
   "execution_count": 20,
   "id": "2d05e500-a84f-432e-b893-9db9702f2b40",
   "metadata": {},
   "outputs": [],
   "source": [
    "data = data.drop_duplicates()"
   ]
  },
  {
   "cell_type": "code",
   "execution_count": 21,
   "id": "688efe3d-37b2-414c-ab60-0b9e8715e52b",
   "metadata": {},
   "outputs": [
    {
     "data": {
      "text/plain": [
       "0"
      ]
     },
     "execution_count": 21,
     "metadata": {},
     "output_type": "execute_result"
    }
   ],
   "source": [
    "data.duplicated().sum()"
   ]
  },
  {
   "cell_type": "markdown",
   "id": "352c6d52-ab97-4996-b8a6-6dfaf505f7ec",
   "metadata": {},
   "source": [
    "### Check **Outliers** and remove them"
   ]
  },
  {
   "cell_type": "code",
   "execution_count": 23,
   "id": "955b9c2c-af62-4411-9c66-df459eb46f10",
   "metadata": {},
   "outputs": [
    {
     "name": "stdout",
     "output_type": "stream",
     "text": [
      "        km_driven  selling_price\n",
      "count     6717.00        6717.00\n",
      "mean     73398.34      526386.00\n",
      "std      58703.28      523550.45\n",
      "min          1.00       29999.00\n",
      "25%      38000.00      250000.00\n",
      "50%      68203.00      420000.00\n",
      "75%     100000.00      650000.00\n",
      "max    2360457.00    10000000.00\n"
     ]
    }
   ],
   "source": [
    "print(data[['km_driven', 'selling_price']].describe().round(2))"
   ]
  },
  {
   "cell_type": "code",
   "execution_count": 24,
   "id": "e008d849-a445-423b-ae8a-a675d21d3679",
   "metadata": {},
   "outputs": [
    {
     "data": {
      "image/png": "[encoded data removed]",
      "text/plain": [
       "<Figure size 640x480 with 1 Axes>"
      ]
     },
     "metadata": {},
     "output_type": "display_data"
    },
    {
     "data": {
      "image/png": "[encoded data removed]",
      "text/plain": [
       "<Figure size 640x480 with 1 Axes>"
      ]
     },
     "metadata": {},
     "output_type": "display_data"
    }
   ],
   "source": [
    "sns.boxplot(data['km_driven'])\n",
    "plt.show()\n",
    "\n",
    "sns.boxplot(data['selling_price'])\n",
    "plt.show()"
   ]
  },
  {
   "cell_type": "code",
   "execution_count": 25,
   "id": "6a3d4ba4-1cbf-41ff-bc5e-9f04dec27088",
   "metadata": {},
   "outputs": [],
   "source": [
    "# Calculate Q1, Q3 and IQR\n",
    "Q1 = data[['km_driven', 'selling_price']].quantile(0.25)\n",
    "Q3 = data[['km_driven', 'selling_price']].quantile(0.75)\n",
    "IQR = Q3 - Q1"
   ]
  },
  {
   "cell_type": "code",
   "execution_count": 26,
   "id": "2c792a69-cd01-47a0-86f7-ee46cf061cb0",
   "metadata": {},
   "outputs": [],
   "source": [
    "# Filter out outliers based on IQR\n",
    "data = data[~((data[['km_driven', 'selling_price']] < (Q1 - 1.5 * IQR)) | (data[['km_driven', 'selling_price']] > (Q3 + 1.5 * IQR))).any(axis=1)]"
   ]
  },
  {
   "cell_type": "code",
   "execution_count": 27,
   "id": "84b16567-ad1e-41ac-9d70-22e88c5c274a",
   "metadata": {},
   "outputs": [
    {
     "data": {
      "image/png": "[encoded data removed]",
      "text/plain": [
       "<Figure size 640x480 with 1 Axes>"
      ]
     },
     "metadata": {},
     "output_type": "display_data"
    },
    {
     "data": {
      "image/png": "[encoded data removed]",
      "text/plain": [
       "<Figure size 640x480 with 1 Axes>"
      ]
     },
     "metadata": {},
     "output_type": "display_data"
    }
   ],
   "source": [
    "sns.boxplot(data['km_driven'])\n",
    "plt.show()\n",
    "\n",
    "sns.boxplot(data['selling_price'])\n",
    "plt.show()"
   ]
  },
  {
   "cell_type": "code",
   "execution_count": null,
   "id": "cfd5bf9f-3e38-47f8-827a-dd7e70ba2bc3",
   "metadata": {},
   "outputs": [],
   "source": []
  },
  {
   "cell_type": "markdown",
   "id": "cec217a5-323e-4268-b7cb-9a157a1bc6b2",
   "metadata": {},
   "source": [
    "## Label Encoding."
   ]
  },
  {
   "cell_type": "code",
   "execution_count": 29,
   "id": "499f1543-b3fe-454d-b0a6-ec8e32ba2739",
   "metadata": {},
   "outputs": [
    {
     "data": {
      "text/plain": [
       "owner\n",
       "First Owner             3861\n",
       "Second Owner            1773\n",
       "Third Owner              471\n",
       "Fourth & Above Owner     145\n",
       "Name: count, dtype: int64"
      ]
     },
     "execution_count": 29,
     "metadata": {},
     "output_type": "execute_result"
    }
   ],
   "source": [
    "data['owner'].value_counts()"
   ]
  },
  {
   "cell_type": "code",
   "execution_count": 30,
   "id": "6289fb28-35f8-4b7d-9c51-7cf11b11707c",
   "metadata": {},
   "outputs": [],
   "source": [
    "data['owner'] = data['owner'].map({\"First Owner\":1, \"Second Owner\":2, \"Third Owner\":3, \"Fourth & Above Owner\":4})"
   ]
  },
  {
   "cell_type": "code",
   "execution_count": 31,
   "id": "78db96ff-2e4e-4756-8bc2-7ad8be6bf531",
   "metadata": {},
   "outputs": [
    {
     "data": {
      "text/plain": [
       "fuel\n",
       "Diesel    3250\n",
       "Petrol    2916\n",
       "CNG         50\n",
       "LPG         34\n",
       "Name: count, dtype: int64"
      ]
     },
     "execution_count": 31,
     "metadata": {},
     "output_type": "execute_result"
    }
   ],
   "source": [
    "data['fuel'].value_counts()"
   ]
  },
  {
   "cell_type": "code",
   "execution_count": 32,
   "id": "305b3ac7-8b03-47e9-bc7a-5f367932bd99",
   "metadata": {},
   "outputs": [],
   "source": [
    "data['fuel'] = data['fuel'].map({\"Diesel\":1, \"Petrol\":2, \"CNG\":3, \"LPG\":4})\n",
    "\n",
    "# OR\n",
    "# pd.get_dummies(data['fuel'], prefix='fuel')"
   ]
  },
  {
   "cell_type": "code",
   "execution_count": 33,
   "id": "765bec2a-2e63-4c69-885f-ab9284e0089a",
   "metadata": {},
   "outputs": [
    {
     "data": {
      "text/plain": [
       "transmission\n",
       "Manual       5874\n",
       "Automatic     376\n",
       "Name: count, dtype: int64"
      ]
     },
     "execution_count": 33,
     "metadata": {},
     "output_type": "execute_result"
    }
   ],
   "source": [
    "data['transmission'].value_counts()"
   ]
  },
  {
   "cell_type": "code",
   "execution_count": 34,
   "id": "6dcebdb0-5809-4003-8fd5-20540b0e1ac8",
   "metadata": {},
   "outputs": [],
   "source": [
    "data['transmission'] = data['transmission'].map({\"Manual\":1, \"Automatic\":2})"
   ]
  },
  {
   "cell_type": "code",
   "execution_count": 35,
   "id": "fc7daa0c-cf7e-4e22-88f0-5bb676397af8",
   "metadata": {},
   "outputs": [
    {
     "data": {
      "text/html": [
       "<div>\n",
       "<style scoped>\n",
       "    .dataframe tbody tr th:only-of-type {\n",
       "        vertical-align: middle;\n",
       "    }\n",
       "\n",
       "    .dataframe tbody tr th {\n",
       "        vertical-align: top;\n",
       "    }\n",
       "\n",
       "    .dataframe thead th {\n",
       "        text-align: right;\n",
       "    }\n",
       "</style>\n",
       "<table border=\"1\" class=\"dataframe\">\n",
       "  <thead>\n",
       "    <tr style=\"text-align: right;\">\n",
       "      <th></th>\n",
       "      <th>name</th>\n",
       "      <th>year</th>\n",
       "      <th>selling_price</th>\n",
       "      <th>km_driven</th>\n",
       "      <th>fuel</th>\n",
       "      <th>transmission</th>\n",
       "      <th>owner</th>\n",
       "      <th>mileage(km/ltr/kg)</th>\n",
       "      <th>engine</th>\n",
       "      <th>max_power</th>\n",
       "      <th>seats</th>\n",
       "    </tr>\n",
       "  </thead>\n",
       "  <tbody>\n",
       "    <tr>\n",
       "      <th>0</th>\n",
       "      <td>Maruti Swift Dzire VDI</td>\n",
       "      <td>2014</td>\n",
       "      <td>450000</td>\n",
       "      <td>145500</td>\n",
       "      <td>1</td>\n",
       "      <td>1</td>\n",
       "      <td>1</td>\n",
       "      <td>23.40</td>\n",
       "      <td>1248.0</td>\n",
       "      <td>74.00</td>\n",
       "      <td>5.0</td>\n",
       "    </tr>\n",
       "    <tr>\n",
       "      <th>1</th>\n",
       "      <td>Skoda Rapid 1.5 TDI Ambition</td>\n",
       "      <td>2014</td>\n",
       "      <td>370000</td>\n",
       "      <td>120000</td>\n",
       "      <td>1</td>\n",
       "      <td>1</td>\n",
       "      <td>2</td>\n",
       "      <td>21.14</td>\n",
       "      <td>1498.0</td>\n",
       "      <td>103.52</td>\n",
       "      <td>5.0</td>\n",
       "    </tr>\n",
       "    <tr>\n",
       "      <th>2</th>\n",
       "      <td>Honda City 2017-2020 EXi</td>\n",
       "      <td>2006</td>\n",
       "      <td>158000</td>\n",
       "      <td>140000</td>\n",
       "      <td>2</td>\n",
       "      <td>1</td>\n",
       "      <td>3</td>\n",
       "      <td>17.70</td>\n",
       "      <td>1497.0</td>\n",
       "      <td>78.00</td>\n",
       "      <td>5.0</td>\n",
       "    </tr>\n",
       "    <tr>\n",
       "      <th>3</th>\n",
       "      <td>Hyundai i20 Sportz Diesel</td>\n",
       "      <td>2010</td>\n",
       "      <td>225000</td>\n",
       "      <td>127000</td>\n",
       "      <td>1</td>\n",
       "      <td>1</td>\n",
       "      <td>1</td>\n",
       "      <td>23.00</td>\n",
       "      <td>1396.0</td>\n",
       "      <td>90.00</td>\n",
       "      <td>5.0</td>\n",
       "    </tr>\n",
       "    <tr>\n",
       "      <th>4</th>\n",
       "      <td>Maruti Swift VXI BSIII</td>\n",
       "      <td>2007</td>\n",
       "      <td>130000</td>\n",
       "      <td>120000</td>\n",
       "      <td>2</td>\n",
       "      <td>1</td>\n",
       "      <td>1</td>\n",
       "      <td>16.10</td>\n",
       "      <td>1298.0</td>\n",
       "      <td>88.20</td>\n",
       "      <td>5.0</td>\n",
       "    </tr>\n",
       "  </tbody>\n",
       "</table>\n",
       "</div>"
      ],
      "text/plain": [
       "                           name  year  selling_price  km_driven  fuel  \\\n",
       "0        Maruti Swift Dzire VDI  2014         450000     145500     1   \n",
       "1  Skoda Rapid 1.5 TDI Ambition  2014         370000     120000     1   \n",
       "2      Honda City 2017-2020 EXi  2006         158000     140000     2   \n",
       "3     Hyundai i20 Sportz Diesel  2010         225000     127000     1   \n",
       "4        Maruti Swift VXI BSIII  2007         130000     120000     2   \n",
       "\n",
       "   transmission  owner  mileage(km/ltr/kg)  engine  max_power  seats  \n",
       "0             1      1               23.40  1248.0      74.00    5.0  \n",
       "1             1      2               21.14  1498.0     103.52    5.0  \n",
       "2             1      3               17.70  1497.0      78.00    5.0  \n",
       "3             1      1               23.00  1396.0      90.00    5.0  \n",
       "4             1      1               16.10  1298.0      88.20    5.0  "
      ]
     },
     "execution_count": 35,
     "metadata": {},
     "output_type": "execute_result"
    }
   ],
   "source": [
    "data.head()"
   ]
  },
  {
   "cell_type": "code",
   "execution_count": null,
   "id": "039aa618-06b6-40e5-bfcf-95fbf35b797b",
   "metadata": {},
   "outputs": [],
   "source": []
  },
  {
   "cell_type": "code",
   "execution_count": 36,
   "id": "fc9bb9e4-66bf-43ba-b75f-72ab8ec1e5cb",
   "metadata": {},
   "outputs": [
    {
     "name": "stdout",
     "output_type": "stream",
     "text": [
      "<class 'pandas.core.frame.DataFrame'>\n",
      "Index: 6250 entries, 0 to 8125\n",
      "Data columns (total 11 columns):\n",
      " #   Column              Non-Null Count  Dtype  \n",
      "---  ------              --------------  -----  \n",
      " 0   name                6250 non-null   object \n",
      " 1   year                6250 non-null   int64  \n",
      " 2   selling_price       6250 non-null   int64  \n",
      " 3   km_driven           6250 non-null   int64  \n",
      " 4   fuel                6250 non-null   int64  \n",
      " 5   transmission        6250 non-null   int64  \n",
      " 6   owner               6250 non-null   int64  \n",
      " 7   mileage(km/ltr/kg)  6250 non-null   float64\n",
      " 8   engine              6250 non-null   float64\n",
      " 9   max_power           6250 non-null   float64\n",
      " 10  seats               6250 non-null   float64\n",
      "dtypes: float64(4), int64(6), object(1)\n",
      "memory usage: 585.9+ KB\n"
     ]
    }
   ],
   "source": [
    "data.info()"
   ]
  },
  {
   "cell_type": "code",
   "execution_count": 37,
   "id": "53e567ad-9ae5-45c5-bbd5-9855cfdd7212",
   "metadata": {},
   "outputs": [
    {
     "data": {
      "text/html": [
       "<div>\n",
       "<style scoped>\n",
       "    .dataframe tbody tr th:only-of-type {\n",
       "        vertical-align: middle;\n",
       "    }\n",
       "\n",
       "    .dataframe tbody tr th {\n",
       "        vertical-align: top;\n",
       "    }\n",
       "\n",
       "    .dataframe thead th {\n",
       "        text-align: right;\n",
       "    }\n",
       "</style>\n",
       "<table border=\"1\" class=\"dataframe\">\n",
       "  <thead>\n",
       "    <tr style=\"text-align: right;\">\n",
       "      <th></th>\n",
       "      <th>year</th>\n",
       "      <th>selling_price</th>\n",
       "      <th>km_driven</th>\n",
       "      <th>fuel</th>\n",
       "      <th>transmission</th>\n",
       "      <th>owner</th>\n",
       "      <th>mileage(km/ltr/kg)</th>\n",
       "      <th>engine</th>\n",
       "      <th>max_power</th>\n",
       "      <th>seats</th>\n",
       "    </tr>\n",
       "  </thead>\n",
       "  <tbody>\n",
       "    <tr>\n",
       "      <th>count</th>\n",
       "      <td>6250.00</td>\n",
       "      <td>6250.00</td>\n",
       "      <td>6250.00</td>\n",
       "      <td>6250.00</td>\n",
       "      <td>6250.00</td>\n",
       "      <td>6250.00</td>\n",
       "      <td>6250.00</td>\n",
       "      <td>6250.00</td>\n",
       "      <td>6250.00</td>\n",
       "      <td>6250.00</td>\n",
       "    </tr>\n",
       "    <tr>\n",
       "      <th>mean</th>\n",
       "      <td>2013.55</td>\n",
       "      <td>444491.00</td>\n",
       "      <td>69705.26</td>\n",
       "      <td>1.50</td>\n",
       "      <td>1.06</td>\n",
       "      <td>1.50</td>\n",
       "      <td>19.76</td>\n",
       "      <td>1375.91</td>\n",
       "      <td>83.64</td>\n",
       "      <td>5.38</td>\n",
       "    </tr>\n",
       "    <tr>\n",
       "      <th>std</th>\n",
       "      <td>3.88</td>\n",
       "      <td>253225.24</td>\n",
       "      <td>39716.98</td>\n",
       "      <td>0.55</td>\n",
       "      <td>0.24</td>\n",
       "      <td>0.73</td>\n",
       "      <td>3.92</td>\n",
       "      <td>445.28</td>\n",
       "      <td>25.55</td>\n",
       "      <td>0.94</td>\n",
       "    </tr>\n",
       "    <tr>\n",
       "      <th>min</th>\n",
       "      <td>1994.00</td>\n",
       "      <td>29999.00</td>\n",
       "      <td>1.00</td>\n",
       "      <td>1.00</td>\n",
       "      <td>1.00</td>\n",
       "      <td>1.00</td>\n",
       "      <td>0.00</td>\n",
       "      <td>624.00</td>\n",
       "      <td>32.80</td>\n",
       "      <td>2.00</td>\n",
       "    </tr>\n",
       "    <tr>\n",
       "      <th>25%</th>\n",
       "      <td>2011.00</td>\n",
       "      <td>250000.00</td>\n",
       "      <td>39000.00</td>\n",
       "      <td>1.00</td>\n",
       "      <td>1.00</td>\n",
       "      <td>1.00</td>\n",
       "      <td>17.10</td>\n",
       "      <td>1196.00</td>\n",
       "      <td>67.10</td>\n",
       "      <td>5.00</td>\n",
       "    </tr>\n",
       "    <tr>\n",
       "      <th>50%</th>\n",
       "      <td>2014.00</td>\n",
       "      <td>400000.00</td>\n",
       "      <td>68171.50</td>\n",
       "      <td>1.00</td>\n",
       "      <td>1.00</td>\n",
       "      <td>1.00</td>\n",
       "      <td>19.70</td>\n",
       "      <td>1248.00</td>\n",
       "      <td>81.80</td>\n",
       "      <td>5.00</td>\n",
       "    </tr>\n",
       "    <tr>\n",
       "      <th>75%</th>\n",
       "      <td>2017.00</td>\n",
       "      <td>600000.00</td>\n",
       "      <td>100000.00</td>\n",
       "      <td>2.00</td>\n",
       "      <td>1.00</td>\n",
       "      <td>2.00</td>\n",
       "      <td>22.71</td>\n",
       "      <td>1497.00</td>\n",
       "      <td>97.70</td>\n",
       "      <td>5.00</td>\n",
       "    </tr>\n",
       "    <tr>\n",
       "      <th>max</th>\n",
       "      <td>2020.00</td>\n",
       "      <td>1250000.00</td>\n",
       "      <td>193000.00</td>\n",
       "      <td>4.00</td>\n",
       "      <td>2.00</td>\n",
       "      <td>4.00</td>\n",
       "      <td>33.44</td>\n",
       "      <td>3498.00</td>\n",
       "      <td>272.00</td>\n",
       "      <td>14.00</td>\n",
       "    </tr>\n",
       "  </tbody>\n",
       "</table>\n",
       "</div>"
      ],
      "text/plain": [
       "          year  selling_price  km_driven     fuel  transmission    owner  \\\n",
       "count  6250.00        6250.00    6250.00  6250.00       6250.00  6250.00   \n",
       "mean   2013.55      444491.00   69705.26     1.50          1.06     1.50   \n",
       "std       3.88      253225.24   39716.98     0.55          0.24     0.73   \n",
       "min    1994.00       29999.00       1.00     1.00          1.00     1.00   \n",
       "25%    2011.00      250000.00   39000.00     1.00          1.00     1.00   \n",
       "50%    2014.00      400000.00   68171.50     1.00          1.00     1.00   \n",
       "75%    2017.00      600000.00  100000.00     2.00          1.00     2.00   \n",
       "max    2020.00     1250000.00  193000.00     4.00          2.00     4.00   \n",
       "\n",
       "       mileage(km/ltr/kg)   engine  max_power    seats  \n",
       "count             6250.00  6250.00    6250.00  6250.00  \n",
       "mean                19.76  1375.91      83.64     5.38  \n",
       "std                  3.92   445.28      25.55     0.94  \n",
       "min                  0.00   624.00      32.80     2.00  \n",
       "25%                 17.10  1196.00      67.10     5.00  \n",
       "50%                 19.70  1248.00      81.80     5.00  \n",
       "75%                 22.71  1497.00      97.70     5.00  \n",
       "max                 33.44  3498.00     272.00    14.00  "
      ]
     },
     "execution_count": 37,
     "metadata": {},
     "output_type": "execute_result"
    }
   ],
   "source": [
    "data.describe().round(2)"
   ]
  },
  {
   "cell_type": "code",
   "execution_count": 38,
   "id": "5def2d2f-c2ec-4716-b32e-0fecc2ced825",
   "metadata": {},
   "outputs": [
    {
     "data": {
      "text/html": [
       "<div>\n",
       "<style scoped>\n",
       "    .dataframe tbody tr th:only-of-type {\n",
       "        vertical-align: middle;\n",
       "    }\n",
       "\n",
       "    .dataframe tbody tr th {\n",
       "        vertical-align: top;\n",
       "    }\n",
       "\n",
       "    .dataframe thead th {\n",
       "        text-align: right;\n",
       "    }\n",
       "</style>\n",
       "<table border=\"1\" class=\"dataframe\">\n",
       "  <thead>\n",
       "    <tr style=\"text-align: right;\">\n",
       "      <th></th>\n",
       "      <th>name</th>\n",
       "      <th>year</th>\n",
       "      <th>selling_price</th>\n",
       "      <th>km_driven</th>\n",
       "      <th>fuel</th>\n",
       "      <th>transmission</th>\n",
       "      <th>owner</th>\n",
       "      <th>mileage(km/ltr/kg)</th>\n",
       "      <th>engine</th>\n",
       "      <th>max_power</th>\n",
       "      <th>seats</th>\n",
       "    </tr>\n",
       "  </thead>\n",
       "  <tbody>\n",
       "    <tr>\n",
       "      <th>0</th>\n",
       "      <td>Maruti Swift Dzire VDI</td>\n",
       "      <td>2014</td>\n",
       "      <td>450000</td>\n",
       "      <td>145500</td>\n",
       "      <td>1</td>\n",
       "      <td>1</td>\n",
       "      <td>1</td>\n",
       "      <td>23.40</td>\n",
       "      <td>1248.0</td>\n",
       "      <td>74.00</td>\n",
       "      <td>5.0</td>\n",
       "    </tr>\n",
       "    <tr>\n",
       "      <th>1</th>\n",
       "      <td>Skoda Rapid 1.5 TDI Ambition</td>\n",
       "      <td>2014</td>\n",
       "      <td>370000</td>\n",
       "      <td>120000</td>\n",
       "      <td>1</td>\n",
       "      <td>1</td>\n",
       "      <td>2</td>\n",
       "      <td>21.14</td>\n",
       "      <td>1498.0</td>\n",
       "      <td>103.52</td>\n",
       "      <td>5.0</td>\n",
       "    </tr>\n",
       "    <tr>\n",
       "      <th>2</th>\n",
       "      <td>Honda City 2017-2020 EXi</td>\n",
       "      <td>2006</td>\n",
       "      <td>158000</td>\n",
       "      <td>140000</td>\n",
       "      <td>2</td>\n",
       "      <td>1</td>\n",
       "      <td>3</td>\n",
       "      <td>17.70</td>\n",
       "      <td>1497.0</td>\n",
       "      <td>78.00</td>\n",
       "      <td>5.0</td>\n",
       "    </tr>\n",
       "    <tr>\n",
       "      <th>3</th>\n",
       "      <td>Hyundai i20 Sportz Diesel</td>\n",
       "      <td>2010</td>\n",
       "      <td>225000</td>\n",
       "      <td>127000</td>\n",
       "      <td>1</td>\n",
       "      <td>1</td>\n",
       "      <td>1</td>\n",
       "      <td>23.00</td>\n",
       "      <td>1396.0</td>\n",
       "      <td>90.00</td>\n",
       "      <td>5.0</td>\n",
       "    </tr>\n",
       "    <tr>\n",
       "      <th>4</th>\n",
       "      <td>Maruti Swift VXI BSIII</td>\n",
       "      <td>2007</td>\n",
       "      <td>130000</td>\n",
       "      <td>120000</td>\n",
       "      <td>2</td>\n",
       "      <td>1</td>\n",
       "      <td>1</td>\n",
       "      <td>16.10</td>\n",
       "      <td>1298.0</td>\n",
       "      <td>88.20</td>\n",
       "      <td>5.0</td>\n",
       "    </tr>\n",
       "    <tr>\n",
       "      <th>...</th>\n",
       "      <td>...</td>\n",
       "      <td>...</td>\n",
       "      <td>...</td>\n",
       "      <td>...</td>\n",
       "      <td>...</td>\n",
       "      <td>...</td>\n",
       "      <td>...</td>\n",
       "      <td>...</td>\n",
       "      <td>...</td>\n",
       "      <td>...</td>\n",
       "      <td>...</td>\n",
       "    </tr>\n",
       "    <tr>\n",
       "      <th>8121</th>\n",
       "      <td>Maruti Wagon R VXI BS IV with ABS</td>\n",
       "      <td>2013</td>\n",
       "      <td>260000</td>\n",
       "      <td>50000</td>\n",
       "      <td>2</td>\n",
       "      <td>1</td>\n",
       "      <td>2</td>\n",
       "      <td>18.90</td>\n",
       "      <td>998.0</td>\n",
       "      <td>67.10</td>\n",
       "      <td>5.0</td>\n",
       "    </tr>\n",
       "    <tr>\n",
       "      <th>8122</th>\n",
       "      <td>Hyundai i20 Magna 1.4 CRDi</td>\n",
       "      <td>2014</td>\n",
       "      <td>475000</td>\n",
       "      <td>80000</td>\n",
       "      <td>1</td>\n",
       "      <td>1</td>\n",
       "      <td>2</td>\n",
       "      <td>22.54</td>\n",
       "      <td>1396.0</td>\n",
       "      <td>88.73</td>\n",
       "      <td>5.0</td>\n",
       "    </tr>\n",
       "    <tr>\n",
       "      <th>8123</th>\n",
       "      <td>Hyundai i20 Magna</td>\n",
       "      <td>2013</td>\n",
       "      <td>320000</td>\n",
       "      <td>110000</td>\n",
       "      <td>2</td>\n",
       "      <td>1</td>\n",
       "      <td>1</td>\n",
       "      <td>18.50</td>\n",
       "      <td>1197.0</td>\n",
       "      <td>82.85</td>\n",
       "      <td>5.0</td>\n",
       "    </tr>\n",
       "    <tr>\n",
       "      <th>8124</th>\n",
       "      <td>Hyundai Verna CRDi SX</td>\n",
       "      <td>2007</td>\n",
       "      <td>135000</td>\n",
       "      <td>119000</td>\n",
       "      <td>1</td>\n",
       "      <td>1</td>\n",
       "      <td>4</td>\n",
       "      <td>16.80</td>\n",
       "      <td>1493.0</td>\n",
       "      <td>110.00</td>\n",
       "      <td>5.0</td>\n",
       "    </tr>\n",
       "    <tr>\n",
       "      <th>8125</th>\n",
       "      <td>Maruti Swift Dzire ZDi</td>\n",
       "      <td>2009</td>\n",
       "      <td>382000</td>\n",
       "      <td>120000</td>\n",
       "      <td>1</td>\n",
       "      <td>1</td>\n",
       "      <td>1</td>\n",
       "      <td>19.30</td>\n",
       "      <td>1248.0</td>\n",
       "      <td>73.90</td>\n",
       "      <td>5.0</td>\n",
       "    </tr>\n",
       "  </tbody>\n",
       "</table>\n",
       "<p>6250 rows × 11 columns</p>\n",
       "</div>"
      ],
      "text/plain": [
       "                                   name  year  selling_price  km_driven  fuel  \\\n",
       "0                Maruti Swift Dzire VDI  2014         450000     145500     1   \n",
       "1          Skoda Rapid 1.5 TDI Ambition  2014         370000     120000     1   \n",
       "2              Honda City 2017-2020 EXi  2006         158000     140000     2   \n",
       "3             Hyundai i20 Sportz Diesel  2010         225000     127000     1   \n",
       "4                Maruti Swift VXI BSIII  2007         130000     120000     2   \n",
       "...                                 ...   ...            ...        ...   ...   \n",
       "8121  Maruti Wagon R VXI BS IV with ABS  2013         260000      50000     2   \n",
       "8122         Hyundai i20 Magna 1.4 CRDi  2014         475000      80000     1   \n",
       "8123                  Hyundai i20 Magna  2013         320000     110000     2   \n",
       "8124              Hyundai Verna CRDi SX  2007         135000     119000     1   \n",
       "8125             Maruti Swift Dzire ZDi  2009         382000     120000     1   \n",
       "\n",
       "      transmission  owner  mileage(km/ltr/kg)  engine  max_power  seats  \n",
       "0                1      1               23.40  1248.0      74.00    5.0  \n",
       "1                1      2               21.14  1498.0     103.52    5.0  \n",
       "2                1      3               17.70  1497.0      78.00    5.0  \n",
       "3                1      1               23.00  1396.0      90.00    5.0  \n",
       "4                1      1               16.10  1298.0      88.20    5.0  \n",
       "...            ...    ...                 ...     ...        ...    ...  \n",
       "8121             1      2               18.90   998.0      67.10    5.0  \n",
       "8122             1      2               22.54  1396.0      88.73    5.0  \n",
       "8123             1      1               18.50  1197.0      82.85    5.0  \n",
       "8124             1      4               16.80  1493.0     110.00    5.0  \n",
       "8125             1      1               19.30  1248.0      73.90    5.0  \n",
       "\n",
       "[6250 rows x 11 columns]"
      ]
     },
     "execution_count": 38,
     "metadata": {},
     "output_type": "execute_result"
    }
   ],
   "source": [
    "data"
   ]
  },
  {
   "cell_type": "code",
   "execution_count": null,
   "id": "c946b4be-0cb7-403a-ba49-1a70bbac52f8",
   "metadata": {},
   "outputs": [],
   "source": []
  },
  {
   "cell_type": "markdown",
   "id": "30979ef2-c2a5-4572-af14-edbaeb553e56",
   "metadata": {},
   "source": [
    "## Standardization"
   ]
  },
  {
   "cell_type": "code",
   "execution_count": 40,
   "id": "9855ee53-b2ff-4f66-83b7-ca2ec7d4518a",
   "metadata": {},
   "outputs": [],
   "source": [
    "scale = data.loc[:, (data.columns != 'selling_price') & (data.columns != 'name')]"
   ]
  },
  {
   "cell_type": "code",
   "execution_count": 41,
   "id": "28eed9fc-5462-4346-bb1b-74febce7ff97",
   "metadata": {},
   "outputs": [],
   "source": [
    "from sklearn.preprocessing import StandardScaler"
   ]
  },
  {
   "cell_type": "code",
   "execution_count": 42,
   "id": "4cf9229d-ffe9-45cf-a553-f9104f99d289",
   "metadata": {},
   "outputs": [],
   "source": [
    "scaler = StandardScaler()"
   ]
  },
  {
   "cell_type": "code",
   "execution_count": 43,
   "id": "31c7cecd-554c-46f2-80fd-b9932144dbcb",
   "metadata": {},
   "outputs": [],
   "source": [
    "X_scale = scaler.fit_transform(scale)"
   ]
  },
  {
   "cell_type": "code",
   "execution_count": 44,
   "id": "ff3c3a61-e42f-438b-8af5-12d9b6ab20fa",
   "metadata": {},
   "outputs": [],
   "source": [
    "colums = ['year', 'km_driven', 'fuel', 'transmission', 'owner', \n",
    "          'mileage(km/ltr/kg)', 'engine', 'max_power', 'seats']"
   ]
  },
  {
   "cell_type": "code",
   "execution_count": 45,
   "id": "20c96b89-c170-474a-a189-ce182a31fcd7",
   "metadata": {},
   "outputs": [
    {
     "data": {
      "text/html": [
       "<div>\n",
       "<style scoped>\n",
       "    .dataframe tbody tr th:only-of-type {\n",
       "        vertical-align: middle;\n",
       "    }\n",
       "\n",
       "    .dataframe tbody tr th {\n",
       "        vertical-align: top;\n",
       "    }\n",
       "\n",
       "    .dataframe thead th {\n",
       "        text-align: right;\n",
       "    }\n",
       "</style>\n",
       "<table border=\"1\" class=\"dataframe\">\n",
       "  <thead>\n",
       "    <tr style=\"text-align: right;\">\n",
       "      <th></th>\n",
       "      <th>year</th>\n",
       "      <th>km_driven</th>\n",
       "      <th>fuel</th>\n",
       "      <th>transmission</th>\n",
       "      <th>owner</th>\n",
       "      <th>mileage(km/ltr/kg)</th>\n",
       "      <th>engine</th>\n",
       "      <th>max_power</th>\n",
       "      <th>seats</th>\n",
       "    </tr>\n",
       "  </thead>\n",
       "  <tbody>\n",
       "    <tr>\n",
       "      <th>0</th>\n",
       "      <td>0.115038</td>\n",
       "      <td>1.908524</td>\n",
       "      <td>-0.912900</td>\n",
       "      <td>-0.253004</td>\n",
       "      <td>-0.685918</td>\n",
       "      <td>0.928311</td>\n",
       "      <td>-0.287271</td>\n",
       "      <td>-0.377203</td>\n",
       "      <td>-0.405987</td>\n",
       "    </tr>\n",
       "    <tr>\n",
       "      <th>1</th>\n",
       "      <td>0.115038</td>\n",
       "      <td>1.266430</td>\n",
       "      <td>-0.912900</td>\n",
       "      <td>-0.253004</td>\n",
       "      <td>0.675031</td>\n",
       "      <td>0.351201</td>\n",
       "      <td>0.274215</td>\n",
       "      <td>0.778393</td>\n",
       "      <td>-0.405987</td>\n",
       "    </tr>\n",
       "    <tr>\n",
       "      <th>2</th>\n",
       "      <td>-1.944358</td>\n",
       "      <td>1.770033</td>\n",
       "      <td>0.916999</td>\n",
       "      <td>-0.253004</td>\n",
       "      <td>2.035979</td>\n",
       "      <td>-0.527232</td>\n",
       "      <td>0.271969</td>\n",
       "      <td>-0.220618</td>\n",
       "      <td>-0.405987</td>\n",
       "    </tr>\n",
       "    <tr>\n",
       "      <th>3</th>\n",
       "      <td>-0.914660</td>\n",
       "      <td>1.442691</td>\n",
       "      <td>-0.912900</td>\n",
       "      <td>-0.253004</td>\n",
       "      <td>-0.685918</td>\n",
       "      <td>0.826168</td>\n",
       "      <td>0.045129</td>\n",
       "      <td>0.249136</td>\n",
       "      <td>-0.405987</td>\n",
       "    </tr>\n",
       "    <tr>\n",
       "      <th>4</th>\n",
       "      <td>-1.686934</td>\n",
       "      <td>1.266430</td>\n",
       "      <td>0.916999</td>\n",
       "      <td>-0.253004</td>\n",
       "      <td>-0.685918</td>\n",
       "      <td>-0.935806</td>\n",
       "      <td>-0.174974</td>\n",
       "      <td>0.178673</td>\n",
       "      <td>-0.405987</td>\n",
       "    </tr>\n",
       "    <tr>\n",
       "      <th>...</th>\n",
       "      <td>...</td>\n",
       "      <td>...</td>\n",
       "      <td>...</td>\n",
       "      <td>...</td>\n",
       "      <td>...</td>\n",
       "      <td>...</td>\n",
       "      <td>...</td>\n",
       "      <td>...</td>\n",
       "      <td>...</td>\n",
       "    </tr>\n",
       "    <tr>\n",
       "      <th>8121</th>\n",
       "      <td>-0.142387</td>\n",
       "      <td>-0.496182</td>\n",
       "      <td>0.916999</td>\n",
       "      <td>-0.253004</td>\n",
       "      <td>0.675031</td>\n",
       "      <td>-0.220802</td>\n",
       "      <td>-0.848757</td>\n",
       "      <td>-0.647312</td>\n",
       "      <td>-0.405987</td>\n",
       "    </tr>\n",
       "    <tr>\n",
       "      <th>8122</th>\n",
       "      <td>0.115038</td>\n",
       "      <td>0.259223</td>\n",
       "      <td>-0.912900</td>\n",
       "      <td>-0.253004</td>\n",
       "      <td>0.675031</td>\n",
       "      <td>0.708703</td>\n",
       "      <td>0.045129</td>\n",
       "      <td>0.199421</td>\n",
       "      <td>-0.405987</td>\n",
       "    </tr>\n",
       "    <tr>\n",
       "      <th>8123</th>\n",
       "      <td>-0.142387</td>\n",
       "      <td>1.014628</td>\n",
       "      <td>0.916999</td>\n",
       "      <td>-0.253004</td>\n",
       "      <td>-0.685918</td>\n",
       "      <td>-0.322946</td>\n",
       "      <td>-0.401814</td>\n",
       "      <td>-0.030759</td>\n",
       "      <td>-0.405987</td>\n",
       "    </tr>\n",
       "    <tr>\n",
       "      <th>8124</th>\n",
       "      <td>-1.686934</td>\n",
       "      <td>1.241250</td>\n",
       "      <td>-0.912900</td>\n",
       "      <td>-0.253004</td>\n",
       "      <td>3.396928</td>\n",
       "      <td>-0.757055</td>\n",
       "      <td>0.262985</td>\n",
       "      <td>1.032061</td>\n",
       "      <td>-0.405987</td>\n",
       "    </tr>\n",
       "    <tr>\n",
       "      <th>8125</th>\n",
       "      <td>-1.172085</td>\n",
       "      <td>1.266430</td>\n",
       "      <td>-0.912900</td>\n",
       "      <td>-0.253004</td>\n",
       "      <td>-0.685918</td>\n",
       "      <td>-0.118659</td>\n",
       "      <td>-0.287271</td>\n",
       "      <td>-0.381118</td>\n",
       "      <td>-0.405987</td>\n",
       "    </tr>\n",
       "  </tbody>\n",
       "</table>\n",
       "<p>6250 rows × 9 columns</p>\n",
       "</div>"
      ],
      "text/plain": [
       "          year  km_driven      fuel  transmission     owner  \\\n",
       "0     0.115038   1.908524 -0.912900     -0.253004 -0.685918   \n",
       "1     0.115038   1.266430 -0.912900     -0.253004  0.675031   \n",
       "2    -1.944358   1.770033  0.916999     -0.253004  2.035979   \n",
       "3    -0.914660   1.442691 -0.912900     -0.253004 -0.685918   \n",
       "4    -1.686934   1.266430  0.916999     -0.253004 -0.685918   \n",
       "...        ...        ...       ...           ...       ...   \n",
       "8121 -0.142387  -0.496182  0.916999     -0.253004  0.675031   \n",
       "8122  0.115038   0.259223 -0.912900     -0.253004  0.675031   \n",
       "8123 -0.142387   1.014628  0.916999     -0.253004 -0.685918   \n",
       "8124 -1.686934   1.241250 -0.912900     -0.253004  3.396928   \n",
       "8125 -1.172085   1.266430 -0.912900     -0.253004 -0.685918   \n",
       "\n",
       "      mileage(km/ltr/kg)    engine  max_power     seats  \n",
       "0               0.928311 -0.287271  -0.377203 -0.405987  \n",
       "1               0.351201  0.274215   0.778393 -0.405987  \n",
       "2              -0.527232  0.271969  -0.220618 -0.405987  \n",
       "3               0.826168  0.045129   0.249136 -0.405987  \n",
       "4              -0.935806 -0.174974   0.178673 -0.405987  \n",
       "...                  ...       ...        ...       ...  \n",
       "8121           -0.220802 -0.848757  -0.647312 -0.405987  \n",
       "8122            0.708703  0.045129   0.199421 -0.405987  \n",
       "8123           -0.322946 -0.401814  -0.030759 -0.405987  \n",
       "8124           -0.757055  0.262985   1.032061 -0.405987  \n",
       "8125           -0.118659 -0.287271  -0.381118 -0.405987  \n",
       "\n",
       "[6250 rows x 9 columns]"
      ]
     },
     "execution_count": 45,
     "metadata": {},
     "output_type": "execute_result"
    }
   ],
   "source": [
    "X_scale = pd.DataFrame(X_scale, columns=colums, index=data.index)\n",
    "X_scale"
   ]
  },
  {
   "cell_type": "code",
   "execution_count": 46,
   "id": "49d6f2e6-4404-454c-8770-93dea11832ac",
   "metadata": {},
   "outputs": [],
   "source": [
    "data_scale = data.copy()\n",
    "data_scale[colums] = X_scale"
   ]
  },
  {
   "cell_type": "code",
   "execution_count": 47,
   "id": "8f29cac8-6680-4d93-8d12-04b2dd3ee1ea",
   "metadata": {},
   "outputs": [
    {
     "data": {
      "text/html": [
       "<div>\n",
       "<style scoped>\n",
       "    .dataframe tbody tr th:only-of-type {\n",
       "        vertical-align: middle;\n",
       "    }\n",
       "\n",
       "    .dataframe tbody tr th {\n",
       "        vertical-align: top;\n",
       "    }\n",
       "\n",
       "    .dataframe thead th {\n",
       "        text-align: right;\n",
       "    }\n",
       "</style>\n",
       "<table border=\"1\" class=\"dataframe\">\n",
       "  <thead>\n",
       "    <tr style=\"text-align: right;\">\n",
       "      <th></th>\n",
       "      <th>name</th>\n",
       "      <th>year</th>\n",
       "      <th>selling_price</th>\n",
       "      <th>km_driven</th>\n",
       "      <th>fuel</th>\n",
       "      <th>transmission</th>\n",
       "      <th>owner</th>\n",
       "      <th>mileage(km/ltr/kg)</th>\n",
       "      <th>engine</th>\n",
       "      <th>max_power</th>\n",
       "      <th>seats</th>\n",
       "    </tr>\n",
       "  </thead>\n",
       "  <tbody>\n",
       "    <tr>\n",
       "      <th>0</th>\n",
       "      <td>Maruti Swift Dzire VDI</td>\n",
       "      <td>0.115038</td>\n",
       "      <td>450000</td>\n",
       "      <td>1.908524</td>\n",
       "      <td>-0.912900</td>\n",
       "      <td>-0.253004</td>\n",
       "      <td>-0.685918</td>\n",
       "      <td>0.928311</td>\n",
       "      <td>-0.287271</td>\n",
       "      <td>-0.377203</td>\n",
       "      <td>-0.405987</td>\n",
       "    </tr>\n",
       "    <tr>\n",
       "      <th>1</th>\n",
       "      <td>Skoda Rapid 1.5 TDI Ambition</td>\n",
       "      <td>0.115038</td>\n",
       "      <td>370000</td>\n",
       "      <td>1.266430</td>\n",
       "      <td>-0.912900</td>\n",
       "      <td>-0.253004</td>\n",
       "      <td>0.675031</td>\n",
       "      <td>0.351201</td>\n",
       "      <td>0.274215</td>\n",
       "      <td>0.778393</td>\n",
       "      <td>-0.405987</td>\n",
       "    </tr>\n",
       "    <tr>\n",
       "      <th>2</th>\n",
       "      <td>Honda City 2017-2020 EXi</td>\n",
       "      <td>-1.944358</td>\n",
       "      <td>158000</td>\n",
       "      <td>1.770033</td>\n",
       "      <td>0.916999</td>\n",
       "      <td>-0.253004</td>\n",
       "      <td>2.035979</td>\n",
       "      <td>-0.527232</td>\n",
       "      <td>0.271969</td>\n",
       "      <td>-0.220618</td>\n",
       "      <td>-0.405987</td>\n",
       "    </tr>\n",
       "    <tr>\n",
       "      <th>3</th>\n",
       "      <td>Hyundai i20 Sportz Diesel</td>\n",
       "      <td>-0.914660</td>\n",
       "      <td>225000</td>\n",
       "      <td>1.442691</td>\n",
       "      <td>-0.912900</td>\n",
       "      <td>-0.253004</td>\n",
       "      <td>-0.685918</td>\n",
       "      <td>0.826168</td>\n",
       "      <td>0.045129</td>\n",
       "      <td>0.249136</td>\n",
       "      <td>-0.405987</td>\n",
       "    </tr>\n",
       "    <tr>\n",
       "      <th>4</th>\n",
       "      <td>Maruti Swift VXI BSIII</td>\n",
       "      <td>-1.686934</td>\n",
       "      <td>130000</td>\n",
       "      <td>1.266430</td>\n",
       "      <td>0.916999</td>\n",
       "      <td>-0.253004</td>\n",
       "      <td>-0.685918</td>\n",
       "      <td>-0.935806</td>\n",
       "      <td>-0.174974</td>\n",
       "      <td>0.178673</td>\n",
       "      <td>-0.405987</td>\n",
       "    </tr>\n",
       "    <tr>\n",
       "      <th>...</th>\n",
       "      <td>...</td>\n",
       "      <td>...</td>\n",
       "      <td>...</td>\n",
       "      <td>...</td>\n",
       "      <td>...</td>\n",
       "      <td>...</td>\n",
       "      <td>...</td>\n",
       "      <td>...</td>\n",
       "      <td>...</td>\n",
       "      <td>...</td>\n",
       "      <td>...</td>\n",
       "    </tr>\n",
       "    <tr>\n",
       "      <th>8121</th>\n",
       "      <td>Maruti Wagon R VXI BS IV with ABS</td>\n",
       "      <td>-0.142387</td>\n",
       "      <td>260000</td>\n",
       "      <td>-0.496182</td>\n",
       "      <td>0.916999</td>\n",
       "      <td>-0.253004</td>\n",
       "      <td>0.675031</td>\n",
       "      <td>-0.220802</td>\n",
       "      <td>-0.848757</td>\n",
       "      <td>-0.647312</td>\n",
       "      <td>-0.405987</td>\n",
       "    </tr>\n",
       "    <tr>\n",
       "      <th>8122</th>\n",
       "      <td>Hyundai i20 Magna 1.4 CRDi</td>\n",
       "      <td>0.115038</td>\n",
       "      <td>475000</td>\n",
       "      <td>0.259223</td>\n",
       "      <td>-0.912900</td>\n",
       "      <td>-0.253004</td>\n",
       "      <td>0.675031</td>\n",
       "      <td>0.708703</td>\n",
       "      <td>0.045129</td>\n",
       "      <td>0.199421</td>\n",
       "      <td>-0.405987</td>\n",
       "    </tr>\n",
       "    <tr>\n",
       "      <th>8123</th>\n",
       "      <td>Hyundai i20 Magna</td>\n",
       "      <td>-0.142387</td>\n",
       "      <td>320000</td>\n",
       "      <td>1.014628</td>\n",
       "      <td>0.916999</td>\n",
       "      <td>-0.253004</td>\n",
       "      <td>-0.685918</td>\n",
       "      <td>-0.322946</td>\n",
       "      <td>-0.401814</td>\n",
       "      <td>-0.030759</td>\n",
       "      <td>-0.405987</td>\n",
       "    </tr>\n",
       "    <tr>\n",
       "      <th>8124</th>\n",
       "      <td>Hyundai Verna CRDi SX</td>\n",
       "      <td>-1.686934</td>\n",
       "      <td>135000</td>\n",
       "      <td>1.241250</td>\n",
       "      <td>-0.912900</td>\n",
       "      <td>-0.253004</td>\n",
       "      <td>3.396928</td>\n",
       "      <td>-0.757055</td>\n",
       "      <td>0.262985</td>\n",
       "      <td>1.032061</td>\n",
       "      <td>-0.405987</td>\n",
       "    </tr>\n",
       "    <tr>\n",
       "      <th>8125</th>\n",
       "      <td>Maruti Swift Dzire ZDi</td>\n",
       "      <td>-1.172085</td>\n",
       "      <td>382000</td>\n",
       "      <td>1.266430</td>\n",
       "      <td>-0.912900</td>\n",
       "      <td>-0.253004</td>\n",
       "      <td>-0.685918</td>\n",
       "      <td>-0.118659</td>\n",
       "      <td>-0.287271</td>\n",
       "      <td>-0.381118</td>\n",
       "      <td>-0.405987</td>\n",
       "    </tr>\n",
       "  </tbody>\n",
       "</table>\n",
       "<p>6250 rows × 11 columns</p>\n",
       "</div>"
      ],
      "text/plain": [
       "                                   name      year  selling_price  km_driven  \\\n",
       "0                Maruti Swift Dzire VDI  0.115038         450000   1.908524   \n",
       "1          Skoda Rapid 1.5 TDI Ambition  0.115038         370000   1.266430   \n",
       "2              Honda City 2017-2020 EXi -1.944358         158000   1.770033   \n",
       "3             Hyundai i20 Sportz Diesel -0.914660         225000   1.442691   \n",
       "4                Maruti Swift VXI BSIII -1.686934         130000   1.266430   \n",
       "...                                 ...       ...            ...        ...   \n",
       "8121  Maruti Wagon R VXI BS IV with ABS -0.142387         260000  -0.496182   \n",
       "8122         Hyundai i20 Magna 1.4 CRDi  0.115038         475000   0.259223   \n",
       "8123                  Hyundai i20 Magna -0.142387         320000   1.014628   \n",
       "8124              Hyundai Verna CRDi SX -1.686934         135000   1.241250   \n",
       "8125             Maruti Swift Dzire ZDi -1.172085         382000   1.266430   \n",
       "\n",
       "          fuel  transmission     owner  mileage(km/ltr/kg)    engine  \\\n",
       "0    -0.912900     -0.253004 -0.685918            0.928311 -0.287271   \n",
       "1    -0.912900     -0.253004  0.675031            0.351201  0.274215   \n",
       "2     0.916999     -0.253004  2.035979           -0.527232  0.271969   \n",
       "3    -0.912900     -0.253004 -0.685918            0.826168  0.045129   \n",
       "4     0.916999     -0.253004 -0.685918           -0.935806 -0.174974   \n",
       "...        ...           ...       ...                 ...       ...   \n",
       "8121  0.916999     -0.253004  0.675031           -0.220802 -0.848757   \n",
       "8122 -0.912900     -0.253004  0.675031            0.708703  0.045129   \n",
       "8123  0.916999     -0.253004 -0.685918           -0.322946 -0.401814   \n",
       "8124 -0.912900     -0.253004  3.396928           -0.757055  0.262985   \n",
       "8125 -0.912900     -0.253004 -0.685918           -0.118659 -0.287271   \n",
       "\n",
       "      max_power     seats  \n",
       "0     -0.377203 -0.405987  \n",
       "1      0.778393 -0.405987  \n",
       "2     -0.220618 -0.405987  \n",
       "3      0.249136 -0.405987  \n",
       "4      0.178673 -0.405987  \n",
       "...         ...       ...  \n",
       "8121  -0.647312 -0.405987  \n",
       "8122   0.199421 -0.405987  \n",
       "8123  -0.030759 -0.405987  \n",
       "8124   1.032061 -0.405987  \n",
       "8125  -0.381118 -0.405987  \n",
       "\n",
       "[6250 rows x 11 columns]"
      ]
     },
     "execution_count": 47,
     "metadata": {},
     "output_type": "execute_result"
    }
   ],
   "source": [
    "data_scale"
   ]
  },
  {
   "cell_type": "code",
   "execution_count": null,
   "id": "364dae38-b15a-4e98-ae54-bdb0b2095b6c",
   "metadata": {},
   "outputs": [],
   "source": []
  },
  {
   "cell_type": "markdown",
   "id": "4f2806bc-5eba-4969-8b9a-f470f2e953e5",
   "metadata": {},
   "source": [
    "## Text Preprocessing"
   ]
  },
  {
   "cell_type": "code",
   "execution_count": 49,
   "id": "db2a6fbd-9234-4386-8639-ef8505a24798",
   "metadata": {},
   "outputs": [
    {
     "data": {
      "text/plain": [
       "(350,)"
      ]
     },
     "execution_count": 49,
     "metadata": {},
     "output_type": "execute_result"
    }
   ],
   "source": [
    "data[data['name'].str.contains('Honda', case=False, na=False)]['selling_price'].shape"
   ]
  },
  {
   "cell_type": "code",
   "execution_count": 50,
   "id": "3ff42de8-9b6d-4e08-93f1-25d2b84b1f46",
   "metadata": {},
   "outputs": [
    {
     "data": {
      "text/plain": [
       "(7,)"
      ]
     },
     "execution_count": 50,
     "metadata": {},
     "output_type": "execute_result"
    }
   ],
   "source": [
    "data[data['name'] == 'Honda City 2017-2020 EXi']['selling_price'].shape"
   ]
  },
  {
   "cell_type": "code",
   "execution_count": 51,
   "id": "0a22905e-8fe8-4f69-a7a7-ccbc4e4e22ae",
   "metadata": {},
   "outputs": [
    {
     "data": {
      "text/plain": [
       "(2,)"
      ]
     },
     "execution_count": 51,
     "metadata": {},
     "output_type": "execute_result"
    }
   ],
   "source": [
    "data[(data['name'] == 'Honda City 2017-2020 EXi') & (data['year'] == 2006)]['selling_price'].shape"
   ]
  },
  {
   "cell_type": "code",
   "execution_count": 52,
   "id": "516016d2-ae92-4eb6-88d2-e897f1707b01",
   "metadata": {},
   "outputs": [],
   "source": [
    "# data['brand'] = data['name'].str.split(' ').str[0]\n",
    "# data['model'] = data['name'].str.split(' ').str[1]\n",
    "# data = data.drop(columns='name')"
   ]
  },
  {
   "cell_type": "code",
   "execution_count": null,
   "id": "a60c79ab-e490-4974-9bb1-3e550ee606db",
   "metadata": {},
   "outputs": [],
   "source": []
  },
  {
   "cell_type": "code",
   "execution_count": null,
   "id": "f6df3aa8-bcbf-42eb-8d79-ad27b8054930",
   "metadata": {},
   "outputs": [],
   "source": []
  }
 ],
 "metadata": {
  "kernelspec": {
   "display_name": "Python 3 (ipykernel)",
   "language": "python",
   "name": "python3"
  },
  "language_info": {
   "codemirror_mode": {
    "name": "ipython",
    "version": 3
   },
   "file_extension": ".py",
   "mimetype": "text/x-python",
   "name": "python",
   "nbconvert_exporter": "python",
   "pygments_lexer": "ipython3",
   "version": "3.12.7"
  }
 },
 "nbformat": 4,
 "nbformat_minor": 5
}
